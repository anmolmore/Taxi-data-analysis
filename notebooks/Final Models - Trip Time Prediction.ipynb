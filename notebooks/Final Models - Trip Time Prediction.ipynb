{
 "cells": [
  {
   "cell_type": "markdown",
   "metadata": {},
   "source": [
    "- Anmol More - 11915043\n",
    "- Shlok Mittal - 11915071"
   ]
  },
  {
   "cell_type": "code",
   "execution_count": 1,
   "metadata": {},
   "outputs": [],
   "source": [
    "import numpy as np\n",
    "import pandas as pd\n",
    "from sklearn.model_selection import train_test_split"
   ]
  },
  {
   "cell_type": "code",
   "execution_count": 2,
   "metadata": {},
   "outputs": [
    {
     "name": "stdout",
     "output_type": "stream",
     "text": [
      "(1200729, 7) (1200729,)\n",
      "(300183, 7) (300183,)\n"
     ]
    }
   ],
   "source": [
    "df = pd.read_csv('../data/model_data/trip_time_prediction.csv')\n",
    "df['TIMESTAMP'] = pd.to_datetime(df['TIMESTAMP'])\n",
    "df['hour'] = df['TIMESTAMP'].dt.hour\n",
    "df['dow'] = df['TIMESTAMP'].dt.weekday\n",
    "df.drop(columns = ['TIMESTAMP'], inplace=True)\n",
    "\n",
    "X = df.loc[:, df.columns != 'Trip Time']\n",
    "y = df['Trip Time']\n",
    "\n",
    "X_train, X_test, y_train, y_test = train_test_split(X, y, shuffle=True, test_size=0.2)\n",
    "print (X_train.shape, y_train.shape)\n",
    "print (X_test.shape, y_test.shape)"
   ]
  },
  {
   "cell_type": "code",
   "execution_count": 3,
   "metadata": {},
   "outputs": [
    {
     "name": "stdout",
     "output_type": "stream",
     "text": [
      "Test Accuracy :  0.5523607724419144\n",
      "CPU times: user 7min 11s, sys: 10.9 s, total: 7min 22s\n",
      "Wall time: 7min 34s\n"
     ]
    }
   ],
   "source": [
    "%%time\n",
    "from sklearn.metrics import mean_squared_error\n",
    "from sklearn.datasets import make_friedman1\n",
    "from sklearn.ensemble import GradientBoostingRegressor\n",
    "\n",
    "est = GradientBoostingRegressor(n_estimators=1000, learning_rate=0.1, \n",
    "                                max_depth=1, random_state=0, loss='ls').fit(X_train, y_train)\n",
    "np.sqrt(mean_squared_error(y_test, est.predict(X_test)))\n",
    "print (\"Test Accuracy : \", est.score(X_test, y_test))"
   ]
  },
  {
   "cell_type": "code",
   "execution_count": 5,
   "metadata": {},
   "outputs": [],
   "source": [
    "import pickle\n",
    "# filename = '../model/triptime_prediction.sav'\n",
    "# pickle.dump(est, open(filename, 'wb'))\n",
    "\n",
    "#est = pickle.load(open(filename, 'rb'))\n",
    "#result = est.score(X_test, y_test)\n",
    "#print(result)\n",
    "\n",
    "filename = 'model.pkl'\n",
    "pickle.dump(est, open(filename, 'wb'))"
   ]
  },
  {
   "cell_type": "code",
   "execution_count": 6,
   "metadata": {},
   "outputs": [
    {
     "name": "stdout",
     "output_type": "stream",
     "text": [
      "41.158962 -8.634978 41.140584 -8.615817 2.598062705571137 21 4\n",
      "453\n",
      "41.158962 -8.634978 41.140584 -8.615817 2.598062705571137 15 6\n",
      "526\n"
     ]
    },
    {
     "name": "stderr",
     "output_type": "stream",
     "text": [
      "/Users/anmol/anaconda3/lib/python3.7/site-packages/sklearn/base.py:251: UserWarning: Trying to unpickle estimator DecisionTreeRegressor from version 0.20.3 when using version 0.20.2. This might lead to breaking code or invalid results. Use at your own risk.\n",
      "  UserWarning)\n",
      "/Users/anmol/anaconda3/lib/python3.7/site-packages/sklearn/base.py:251: UserWarning: Trying to unpickle estimator GradientBoostingRegressor from version 0.20.3 when using version 0.20.2. This might lead to breaking code or invalid results. Use at your own risk.\n",
      "  UserWarning)\n",
      "/Users/anmol/anaconda3/lib/python3.7/site-packages/sklearn/base.py:251: UserWarning: Trying to unpickle estimator DecisionTreeRegressor from version 0.20.3 when using version 0.20.2. This might lead to breaking code or invalid results. Use at your own risk.\n",
      "  UserWarning)\n",
      "/Users/anmol/anaconda3/lib/python3.7/site-packages/sklearn/base.py:251: UserWarning: Trying to unpickle estimator GradientBoostingRegressor from version 0.20.3 when using version 0.20.2. This might lead to breaking code or invalid results. Use at your own risk.\n",
      "  UserWarning)\n"
     ]
    }
   ],
   "source": [
    "def predict_trip_time(start_lat, start_long, end_lat, end_long, date = 0) :\n",
    "    import datetime\n",
    "    import pickle\n",
    "    import numpy as np\n",
    "        \n",
    "    if(date == 0) :\n",
    "        date = datetime.datetime.now()\n",
    "        hour = date.hour\n",
    "    else :\n",
    "        date = datetime.datetime.strptime(date, \"%Y-%m-%d\")\n",
    "        hour = 15\n",
    "    dayofweek = date.weekday()\n",
    "\n",
    "    filename = '../model/triptime_prediction.sav'\n",
    "    gbr_model = pickle.load(open(filename, 'rb'))\n",
    "    \n",
    "    earth_radius = 6371\n",
    "    lat1, lon1, lat2, lon2 = np.radians([start_lat, start_long, end_lat, end_long])\n",
    "    a = np.sin((lat2-lat1)/2.0)**2 + np.cos(lat1) * np.cos(lat2) * np.sin((lon2-lon1)/2.0)**2\n",
    "    distance = earth_radius * 2 * np.arcsin(np.sqrt(a))\n",
    "\n",
    "    result = int(gbr_model.predict(np.array((start_lat, start_long, \n",
    "                                            end_lat, end_long, \n",
    "                                            distance, hour, dayofweek)).reshape(1, -1)))\n",
    "    print(start_lat, start_long,end_lat, end_long,distance, hour, dayofweek)\n",
    "    return result\n",
    "\n",
    "start_lat = 41.158962\n",
    "start_long = -8.634978\n",
    "end_lat = 41.140584\n",
    "end_long = -8.615817\n",
    "print(predict_trip_time(start_lat, start_long, end_lat, end_long))\n",
    "print(predict_trip_time(start_lat, start_long, end_lat, end_long, '2019-11-24'))\n"
   ]
  },
  {
   "cell_type": "code",
   "execution_count": null,
   "metadata": {},
   "outputs": [],
   "source": []
  }
 ],
 "metadata": {
  "kernelspec": {
   "display_name": "Python 3",
   "language": "python",
   "name": "python3"
  },
  "language_info": {
   "codemirror_mode": {
    "name": "ipython",
    "version": 3
   },
   "file_extension": ".py",
   "mimetype": "text/x-python",
   "name": "python",
   "nbconvert_exporter": "python",
   "pygments_lexer": "ipython3",
   "version": "3.7.4"
  }
 },
 "nbformat": 4,
 "nbformat_minor": 2
}
